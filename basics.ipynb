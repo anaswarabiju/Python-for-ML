{
 "cells": [
  {
   "cell_type": "markdown",
   "id": "2ef7f184-3c18-4a6f-9801-226fcfda2298",
   "metadata": {},
   "source": [
    "# Basics of `python`\n",
    "\n",
    "In this notebook we will explain basic `python` for machine learning."
   ]
  },
  {
   "cell_type": "markdown",
   "id": "15ce159f-551a-4dab-81be-b50803147b28",
   "metadata": {},
   "source": [
    "## Derived data types in Python"
   ]
  },
  {
   "cell_type": "markdown",
   "id": "b1dc77bd-a0b6-4857-b72a-21021d7f3c02",
   "metadata": {},
   "source": [
    ">**NOTE:** In Python `int`,`float`,`str`..are atomic data types and no declaration is required. "
   ]
  },
  {
   "cell_type": "code",
   "execution_count": 1,
   "id": "bb766630-a1a5-412c-b1bc-946e1531cb8b",
   "metadata": {},
   "outputs": [],
   "source": [
    "my_list=[1,2,3,]"
   ]
  },
  {
   "cell_type": "code",
   "execution_count": 2,
   "id": "bbb60253-fa4e-4b96-a9a5-6c24f18f419f",
   "metadata": {},
   "outputs": [
    {
     "data": {
      "text/plain": [
       "[1, 2, 3]"
      ]
     },
     "execution_count": 2,
     "metadata": {},
     "output_type": "execute_result"
    }
   ],
   "source": [
    "my_list"
   ]
  },
  {
   "cell_type": "code",
   "execution_count": 6,
   "id": "95ccf53c-abb2-41e4-807b-38a9afbb7231",
   "metadata": {},
   "outputs": [],
   "source": [
    "my_list=[1,'a',2,'b',3,'c']"
   ]
  },
  {
   "cell_type": "code",
   "execution_count": 7,
   "id": "2d29bf70-e352-4683-a017-000d8bb3ac34",
   "metadata": {},
   "outputs": [
    {
     "data": {
      "text/plain": [
       "[1, 'a', 2, 'b', 3, 'c']"
      ]
     },
     "execution_count": 7,
     "metadata": {},
     "output_type": "execute_result"
    }
   ],
   "source": [
    "my_list"
   ]
  },
  {
   "cell_type": "code",
   "execution_count": 8,
   "id": "de9cb65d-055b-44fb-8036-ffb2d8e62c1e",
   "metadata": {},
   "outputs": [
    {
     "data": {
      "text/plain": [
       "1"
      ]
     },
     "execution_count": 8,
     "metadata": {},
     "output_type": "execute_result"
    }
   ],
   "source": [
    "my_list[0]"
   ]
  },
  {
   "cell_type": "code",
   "execution_count": 10,
   "id": "4e239c42-4f59-42b9-bf24-51d731d0e81f",
   "metadata": {},
   "outputs": [],
   "source": [
    "my_list=[1,2,[100,200]]"
   ]
  },
  {
   "cell_type": "code",
   "execution_count": 11,
   "id": "8a897745-96d6-4035-9318-627714612e1f",
   "metadata": {},
   "outputs": [
    {
     "data": {
      "text/plain": [
       "[100, 200]"
      ]
     },
     "execution_count": 11,
     "metadata": {},
     "output_type": "execute_result"
    }
   ],
   "source": [
    "my_list[2]"
   ]
  },
  {
   "cell_type": "code",
   "execution_count": 12,
   "id": "7ca9f3ff-c810-4ca9-964b-22aeec5db470",
   "metadata": {},
   "outputs": [
    {
     "data": {
      "text/plain": [
       "200"
      ]
     },
     "execution_count": 12,
     "metadata": {},
     "output_type": "execute_result"
    }
   ],
   "source": [
    "my_list[2][1]"
   ]
  },
  {
   "cell_type": "code",
   "execution_count": 13,
   "id": "d32682b4-0fa7-4183-bb1b-a07b5cb5815a",
   "metadata": {},
   "outputs": [],
   "source": [
    "my_list=['a','b','c','d']"
   ]
  },
  {
   "cell_type": "code",
   "execution_count": 14,
   "id": "f34f368d-ffcf-45bf-aaa5-3b5bfddd2557",
   "metadata": {},
   "outputs": [
    {
     "data": {
      "text/plain": [
       "['a', 'b', 'c', 'd']"
      ]
     },
     "execution_count": 14,
     "metadata": {},
     "output_type": "execute_result"
    }
   ],
   "source": [
    "my_list"
   ]
  },
  {
   "cell_type": "code",
   "execution_count": 16,
   "id": "e3487fc6-c871-4adc-826f-ef3230cedaa8",
   "metadata": {},
   "outputs": [
    {
     "data": {
      "text/plain": [
       "['a']"
      ]
     },
     "execution_count": 16,
     "metadata": {},
     "output_type": "execute_result"
    }
   ],
   "source": [
    "my_list[:1]"
   ]
  },
  {
   "cell_type": "code",
   "execution_count": 17,
   "id": "8a2cb899-3679-412b-b182-5b3bf3b54576",
   "metadata": {},
   "outputs": [
    {
     "data": {
      "text/plain": [
       "['a', 'b']"
      ]
     },
     "execution_count": 17,
     "metadata": {},
     "output_type": "execute_result"
    }
   ],
   "source": [
    "my_list[:2]"
   ]
  },
  {
   "cell_type": "code",
   "execution_count": 18,
   "id": "19fd0aa5-b59b-46fc-b92f-bab09f463955",
   "metadata": {},
   "outputs": [],
   "source": [
    "my_list[0]=\"new\""
   ]
  },
  {
   "cell_type": "code",
   "execution_count": 19,
   "id": "d1d6d994-06ca-4fe9-8565-49ba0889a721",
   "metadata": {},
   "outputs": [
    {
     "data": {
      "text/plain": [
       "['new', 'b', 'c', 'd']"
      ]
     },
     "execution_count": 19,
     "metadata": {},
     "output_type": "execute_result"
    }
   ],
   "source": [
    "my_list"
   ]
  },
  {
   "cell_type": "code",
   "execution_count": 20,
   "id": "f0213857-2800-4c4a-88b1-ef0e89249910",
   "metadata": {},
   "outputs": [],
   "source": [
    "my_list.append('e')"
   ]
  },
  {
   "cell_type": "code",
   "execution_count": 21,
   "id": "378df358-8903-4675-a468-44daf9eb9acd",
   "metadata": {},
   "outputs": [
    {
     "data": {
      "text/plain": [
       "['new', 'b', 'c', 'd', 'e']"
      ]
     },
     "execution_count": 21,
     "metadata": {},
     "output_type": "execute_result"
    }
   ],
   "source": [
    "my_list"
   ]
  },
  {
   "cell_type": "code",
   "execution_count": 22,
   "id": "6845c4de-253f-4bde-a204-c8c5d0c1aeb6",
   "metadata": {},
   "outputs": [],
   "source": [
    "t=(1,2,3)"
   ]
  },
  {
   "cell_type": "code",
   "execution_count": 23,
   "id": "ed0ad30a-d968-471b-85cf-6f7ae8a1fd98",
   "metadata": {},
   "outputs": [
    {
     "data": {
      "text/plain": [
       "(1, 2, 3)"
      ]
     },
     "execution_count": 23,
     "metadata": {},
     "output_type": "execute_result"
    }
   ],
   "source": [
    "t"
   ]
  },
  {
   "cell_type": "code",
   "execution_count": 24,
   "id": "724905fe-8cfc-4ced-94f1-9136a6ec8624",
   "metadata": {},
   "outputs": [],
   "source": [
    "d={\"Name\":'anaswara',\"age\":20}"
   ]
  },
  {
   "cell_type": "code",
   "execution_count": 25,
   "id": "160fb02a-97cf-47ab-8bd3-075ddc5bd717",
   "metadata": {},
   "outputs": [
    {
     "data": {
      "text/plain": [
       "{'Name': 'anaswara', 'age': 20}"
      ]
     },
     "execution_count": 25,
     "metadata": {},
     "output_type": "execute_result"
    }
   ],
   "source": [
    "d"
   ]
  },
  {
   "cell_type": "code",
   "execution_count": 26,
   "id": "b31abe68-3c5b-4426-b48c-cbfa52cf80bb",
   "metadata": {},
   "outputs": [
    {
     "data": {
      "text/plain": [
       "20"
      ]
     },
     "execution_count": 26,
     "metadata": {},
     "output_type": "execute_result"
    }
   ],
   "source": [
    "d['age']"
   ]
  },
  {
   "cell_type": "code",
   "execution_count": 31,
   "id": "4de153d9-1dcc-43ba-8218-e749bf033018",
   "metadata": {},
   "outputs": [
    {
     "data": {
      "text/plain": [
       "'anaswara'"
      ]
     },
     "execution_count": 31,
     "metadata": {},
     "output_type": "execute_result"
    }
   ],
   "source": [
    "d['Name']"
   ]
  },
  {
   "cell_type": "code",
   "execution_count": 32,
   "id": "dcefc458-87fd-4853-bb83-2a603445f11b",
   "metadata": {},
   "outputs": [
    {
     "data": {
      "text/plain": [
       "{'Name': 'anaswara', 'age': 20}"
      ]
     },
     "execution_count": 32,
     "metadata": {},
     "output_type": "execute_result"
    }
   ],
   "source": [
    "d"
   ]
  },
  {
   "cell_type": "code",
   "execution_count": 33,
   "id": "a82d7d63-777b-4282-b913-9bbf47923c70",
   "metadata": {},
   "outputs": [
    {
     "data": {
      "text/plain": [
       "{1, 2, 3, 4}"
      ]
     },
     "execution_count": 33,
     "metadata": {},
     "output_type": "execute_result"
    }
   ],
   "source": [
    "{1,2,3,1,1,1,2,3,3,4,4,4}"
   ]
  },
  {
   "cell_type": "code",
   "execution_count": 35,
   "id": "448250cd-515d-490a-b854-bef5947c3759",
   "metadata": {},
   "outputs": [],
   "source": [
    "def times2(var):\n",
    "    return var*2"
   ]
  },
  {
   "cell_type": "code",
   "execution_count": 36,
   "id": "440b1e09-9847-4797-b492-63fbbda46134",
   "metadata": {},
   "outputs": [
    {
     "data": {
      "text/plain": [
       "4"
      ]
     },
     "execution_count": 36,
     "metadata": {},
     "output_type": "execute_result"
    }
   ],
   "source": [
    "times2(2)"
   ]
  },
  {
   "cell_type": "code",
   "execution_count": 40,
   "id": "22d049c4-7df8-41f6-aae7-6403cd238734",
   "metadata": {},
   "outputs": [],
   "source": [
    "times2=lambda var:var*2"
   ]
  },
  {
   "cell_type": "markdown",
   "id": "b82e5e18-732a-474f-ab92-e52ea8913548",
   "metadata": {
    "jp-MarkdownHeadingCollapsed": true,
    "tags": []
   },
   "source": [
    "print(times2(2))"
   ]
  },
  {
   "cell_type": "code",
   "execution_count": 41,
   "id": "7c87987b-9660-40cb-aab1-7f821eb0e64d",
   "metadata": {},
   "outputs": [
    {
     "name": "stdout",
     "output_type": "stream",
     "text": [
      "4\n"
     ]
    }
   ],
   "source": [
    "print(times2(2))"
   ]
  },
  {
   "cell_type": "code",
   "execution_count": 42,
   "id": "f8b8bfe0-d467-4112-994e-c80f3de5d5ec",
   "metadata": {},
   "outputs": [],
   "source": [
    "x=[1,2,3,4]"
   ]
  },
  {
   "cell_type": "code",
   "execution_count": 46,
   "id": "356a5129-0b85-4433-a1c4-2b215c818de2",
   "metadata": {},
   "outputs": [
    {
     "name": "stdout",
     "output_type": "stream",
     "text": [
      "[1, 4, 9, 16]\n"
     ]
    }
   ],
   "source": [
    "out = []\n",
    "for item in x:\n",
    "    out.append(item**2)\n",
    "print(out)"
   ]
  },
  {
   "cell_type": "code",
   "execution_count": null,
   "id": "fcc934c2-3c3a-4810-8add-0847bcd4d85c",
   "metadata": {},
   "outputs": [],
   "source": [
    "num = 12\n",
    "name = 'sam'"
   ]
  },
  {
   "cell_type": "markdown",
   "id": "ec46be19-1d7a-4709-afde-ff13f6865026",
   "metadata": {},
   "source": [
    "## Print"
   ]
  },
  {
   "cell_type": "code",
   "execution_count": 51,
   "id": "6335c8b7-33a1-4a22-808c-ff382118d025",
   "metadata": {},
   "outputs": [
    {
     "name": "stdout",
     "output_type": "stream",
     "text": [
      "My number is : 12, and my name is : sam\n"
     ]
    }
   ],
   "source": [
    "print('My number is : {one}, and my name is : {two}'.format(one=num,two=name))"
   ]
  },
  {
   "cell_type": "code",
   "execution_count": null,
   "id": "74edae20-a443-4cce-8a6c-bcdc2ebfddb3",
   "metadata": {},
   "outputs": [],
   "source": []
  }
 ],
 "metadata": {
  "kernelspec": {
   "display_name": "Python 3 (Intel® oneAPI 2023.2)",
   "language": "python",
   "name": "c009-intel_distribution_of_python_3_oneapi-beta05-python"
  },
  "language_info": {
   "codemirror_mode": {
    "name": "ipython",
    "version": 3
   },
   "file_extension": ".py",
   "mimetype": "text/x-python",
   "name": "python",
   "nbconvert_exporter": "python",
   "pygments_lexer": "ipython3",
   "version": "3.9.16"
  }
 },
 "nbformat": 4,
 "nbformat_minor": 5
}
